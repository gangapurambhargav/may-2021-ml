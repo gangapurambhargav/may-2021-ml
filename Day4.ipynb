{
  "nbformat": 4,
  "nbformat_minor": 0,
  "metadata": {
    "colab": {
      "name": "Day4.ipynb",
      "provenance": [],
      "collapsed_sections": [],
      "authorship_tag": "ABX9TyOuX50V4Q4LsDW8VZxQ4a+Q",
      "include_colab_link": true
    },
    "kernelspec": {
      "name": "python3",
      "display_name": "Python 3"
    },
    "language_info": {
      "name": "python"
    }
  },
  "cells": [
    {
      "cell_type": "markdown",
      "metadata": {
        "id": "view-in-github",
        "colab_type": "text"
      },
      "source": [
        "<a href=\"https://colab.research.google.com/github/gangapurambhargav/may-2021-ml/blob/main/Day4.ipynb\" target=\"_parent\"><img src=\"https://colab.research.google.com/assets/colab-badge.svg\" alt=\"Open In Colab\"/></a>"
      ]
    },
    {
      "cell_type": "markdown",
      "metadata": {
        "id": "Q1a56Pn6y3rM"
      },
      "source": [
        "All Boolean conditions are true, In If statement \"and\" is used for checking for all conditions\n"
      ]
    },
    {
      "cell_type": "code",
      "metadata": {
        "colab": {
          "base_uri": "https://localhost:8080/"
        },
        "id": "mUYS6ttxw_E1",
        "outputId": "242b28a3-73cf-4323-f20b-39a668edc8e0"
      },
      "source": [
        "high_income= True\n",
        "credit_score= True\n",
        "if high_income and credit_score:\n",
        "   print(\"Eligible for loan\")\n",
        "else:\n",
        "  print(\"Not eligible\")   \n",
        "  "
      ],
      "execution_count": null,
      "outputs": [
        {
          "output_type": "stream",
          "text": [
            "Eligible for loan\n"
          ],
          "name": "stdout"
        }
      ]
    },
    {
      "cell_type": "code",
      "metadata": {
        "colab": {
          "base_uri": "https://localhost:8080/"
        },
        "id": "F7UFIVKYyszS",
        "outputId": "4c5f9ff6-a01b-4082-9889-df4fc4f3e174"
      },
      "source": [
        "high_income= True\n",
        "credit_score= False\n",
        "if high_income and credit_score:\n",
        "   print(\"Eligible for loan\")\n",
        "else:\n",
        "  print(\"Not eligible\")   \n",
        "  "
      ],
      "execution_count": null,
      "outputs": [
        {
          "output_type": "stream",
          "text": [
            "Not eligible\n"
          ],
          "name": "stdout"
        }
      ]
    },
    {
      "cell_type": "markdown",
      "metadata": {
        "id": "IlJxzdvQzU5W"
      },
      "source": [
        "Some Boolean conditions are true and false, In If statement \"or\" is used for checking if any conditions is true or not that's it."
      ]
    },
    {
      "cell_type": "code",
      "metadata": {
        "colab": {
          "base_uri": "https://localhost:8080/"
        },
        "id": "gQOhSeWsywH9",
        "outputId": "05ff7d56-1861-47a7-f744-51fedd2bc81a"
      },
      "source": [
        "high_income= True\n",
        "credit_score= False\n",
        "if high_income or credit_score:\n",
        "   print(\"Eligible for loan\")\n",
        "else:\n",
        "  print(\"Not eligible\")   \n",
        "  "
      ],
      "execution_count": null,
      "outputs": [
        {
          "output_type": "stream",
          "text": [
            "Eligible for loan\n"
          ],
          "name": "stdout"
        }
      ]
    },
    {
      "cell_type": "markdown",
      "metadata": {
        "id": "iNhk6e_N3UXY"
      },
      "source": [
        "TASK:\n",
        "1. Price house of the house is 100000\n",
        "2. Check the Credit history of the applicant\n",
        "3. If good, 10 % downpaydown-payment \n",
        "4. If not, 20 % down-papayment \n",
        "5. Print the statement amount has to be paid\n",
        " "
      ]
    },
    {
      "cell_type": "code",
      "metadata": {
        "colab": {
          "base_uri": "https://localhost:8080/"
        },
        "id": "kysjAs6R4Gpa",
        "outputId": "c6fbbb21-d183-41dd-e3eb-8b1660022061"
      },
      "source": [
        "price= 100000\n",
        "credit_score= input(\"Enter the Credit Score\")\n",
        "goodcs= 75\n",
        "badcs=50\n",
        "if credit_score==goodcs:\n",
        "   print(\"You can pay 10 % down-payment\")                     \n",
        "else:\n",
        "    print(\"You have to pay 20% of 100000\")\n",
        "\n"
      ],
      "execution_count": null,
      "outputs": [
        {
          "output_type": "stream",
          "text": [
            "Enter the Credit Score75\n",
            "You have to pay 20% of 100000\n"
          ],
          "name": "stdout"
        }
      ]
    },
    {
      "cell_type": "markdown",
      "metadata": {
        "id": "BVcs1C4b7m1V"
      },
      "source": [
        "FOR LOOPS:"
      ]
    },
    {
      "cell_type": "code",
      "metadata": {
        "colab": {
          "base_uri": "https://localhost:8080/"
        },
        "id": "5ksiOhcc7oOC",
        "outputId": "533fef9b-451b-4bd9-aad8-ee2f825d07c5"
      },
      "source": [
        "for number in range(0,20,2):\n",
        "  print(number)\n",
        "print(\"Done\")  "
      ],
      "execution_count": null,
      "outputs": [
        {
          "output_type": "stream",
          "text": [
            "0\n",
            "2\n",
            "4\n",
            "6\n",
            "8\n",
            "10\n",
            "12\n",
            "14\n",
            "16\n",
            "18\n",
            "Done\n"
          ],
          "name": "stdout"
        }
      ]
    },
    {
      "cell_type": "code",
      "metadata": {
        "colab": {
          "base_uri": "https://localhost:8080/"
        },
        "id": "z_-EsCMo9Iay",
        "outputId": "e3768741-ad93-4a88-e67e-7679d8bed0f3"
      },
      "source": [
        "number"
      ],
      "execution_count": null,
      "outputs": [
        {
          "output_type": "execute_result",
          "data": {
            "text/plain": [
              "100"
            ]
          },
          "metadata": {
            "tags": []
          },
          "execution_count": 34
        }
      ]
    }
  ]
}