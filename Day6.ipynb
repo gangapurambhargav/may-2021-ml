{
  "nbformat": 4,
  "nbformat_minor": 0,
  "metadata": {
    "colab": {
      "name": "Day6.ipynb",
      "provenance": [],
      "collapsed_sections": [],
      "authorship_tag": "ABX9TyOApbAbLnR9pPPryrWtk0A0",
      "include_colab_link": true
    },
    "kernelspec": {
      "name": "python3",
      "display_name": "Python 3"
    },
    "language_info": {
      "name": "python"
    }
  },
  "cells": [
    {
      "cell_type": "markdown",
      "metadata": {
        "id": "view-in-github",
        "colab_type": "text"
      },
      "source": [
        "<a href=\"https://colab.research.google.com/github/gangapurambhargav/may-2021-ml/blob/main/Day6.ipynb\" target=\"_parent\"><img src=\"https://colab.research.google.com/assets/colab-badge.svg\" alt=\"Open In Colab\"/></a>"
      ]
    },
    {
      "cell_type": "markdown",
      "metadata": {
        "id": "zpWZBWVVNcq-"
      },
      "source": [
        "Dictionaries "
      ]
    },
    {
      "cell_type": "code",
      "metadata": {
        "id": "Pe3O5O6rNgoH"
      },
      "source": [
        "point = {\"x\": 1, \"y\": 2}"
      ],
      "execution_count": 1,
      "outputs": []
    },
    {
      "cell_type": "code",
      "metadata": {
        "colab": {
          "base_uri": "https://localhost:8080/"
        },
        "id": "R1vIB85QOS4w",
        "outputId": "4295976f-9b3a-4409-d4c0-e9566e66707d"
      },
      "source": [
        "print(point)"
      ],
      "execution_count": 2,
      "outputs": [
        {
          "output_type": "stream",
          "text": [
            "{'x': 1, 'y': 2}\n"
          ],
          "name": "stdout"
        }
      ]
    },
    {
      "cell_type": "code",
      "metadata": {
        "colab": {
          "base_uri": "https://localhost:8080/"
        },
        "id": "4PSsmwFvOWy1",
        "outputId": "8d6ba972-a0b3-4fef-9d19-ad1a929b164d"
      },
      "source": [
        "type(point)"
      ],
      "execution_count": 3,
      "outputs": [
        {
          "output_type": "execute_result",
          "data": {
            "text/plain": [
              "dict"
            ]
          },
          "metadata": {
            "tags": []
          },
          "execution_count": 3
        }
      ]
    },
    {
      "cell_type": "code",
      "metadata": {
        "colab": {
          "base_uri": "https://localhost:8080/"
        },
        "id": "J4V2VIuuOvGE",
        "outputId": "3d707392-a636-4fd9-a4c6-06eccac86844"
      },
      "source": [
        "point.keys()"
      ],
      "execution_count": 6,
      "outputs": [
        {
          "output_type": "execute_result",
          "data": {
            "text/plain": [
              "dict_keys(['x', 'y'])"
            ]
          },
          "metadata": {
            "tags": []
          },
          "execution_count": 6
        }
      ]
    },
    {
      "cell_type": "code",
      "metadata": {
        "id": "mzcmWhqKO_V4"
      },
      "source": [
        "point[\"x\"]= 10"
      ],
      "execution_count": 10,
      "outputs": []
    },
    {
      "cell_type": "code",
      "metadata": {
        "colab": {
          "base_uri": "https://localhost:8080/"
        },
        "id": "cgbHhkAiPE6E",
        "outputId": "8fced150-6926-4cdf-b300-8d2feffd5de4"
      },
      "source": [
        "point"
      ],
      "execution_count": 11,
      "outputs": [
        {
          "output_type": "execute_result",
          "data": {
            "text/plain": [
              "{'x': 10, 'y': 2}"
            ]
          },
          "metadata": {
            "tags": []
          },
          "execution_count": 11
        }
      ]
    },
    {
      "cell_type": "code",
      "metadata": {
        "id": "1lJJqKyIPOT0"
      },
      "source": [
        "point[\"z\"]= [4,5,6,7]"
      ],
      "execution_count": 12,
      "outputs": []
    },
    {
      "cell_type": "code",
      "metadata": {
        "colab": {
          "base_uri": "https://localhost:8080/"
        },
        "id": "oqOS-kTUQCBN",
        "outputId": "9fbba7ac-565a-4980-c70a-968485433511"
      },
      "source": [
        "point"
      ],
      "execution_count": 15,
      "outputs": [
        {
          "output_type": "execute_result",
          "data": {
            "text/plain": [
              "{'x': 10, 'y': 2, 'z': [4, 5, 6, 7]}"
            ]
          },
          "metadata": {
            "tags": []
          },
          "execution_count": 15
        }
      ]
    },
    {
      "cell_type": "code",
      "metadata": {
        "id": "kNngprm1QDaU"
      },
      "source": [
        "point1 = dict(x=1,y=2)"
      ],
      "execution_count": 16,
      "outputs": []
    },
    {
      "cell_type": "code",
      "metadata": {
        "colab": {
          "base_uri": "https://localhost:8080/"
        },
        "id": "8lTvj9YIQG_K",
        "outputId": "775726f6-fc48-4070-a18f-c2b96c7a231d"
      },
      "source": [
        "point1"
      ],
      "execution_count": 17,
      "outputs": [
        {
          "output_type": "execute_result",
          "data": {
            "text/plain": [
              "{'x': 1, 'y': 2}"
            ]
          },
          "metadata": {
            "tags": []
          },
          "execution_count": 17
        }
      ]
    },
    {
      "cell_type": "markdown",
      "metadata": {
        "id": "X-E-p2-RRELa"
      },
      "source": [
        "EXCEPTIONS:"
      ]
    },
    {
      "cell_type": "code",
      "metadata": {
        "colab": {
          "base_uri": "https://localhost:8080/",
          "height": 178
        },
        "id": "oP6vK2-nRGg9",
        "outputId": "2c590e43-6f09-4a04-d138-1c399d2be594"
      },
      "source": [
        "age = int(input(\"Enter Your age\"))"
      ],
      "execution_count": 20,
      "outputs": [
        {
          "output_type": "stream",
          "text": [
            "Enter Your agebhargav\n"
          ],
          "name": "stdout"
        },
        {
          "output_type": "error",
          "ename": "ValueError",
          "evalue": "ignored",
          "traceback": [
            "\u001b[0;31m---------------------------------------------------------------------------\u001b[0m",
            "\u001b[0;31mValueError\u001b[0m                                Traceback (most recent call last)",
            "\u001b[0;32m<ipython-input-20-0075b8e89b23>\u001b[0m in \u001b[0;36m<module>\u001b[0;34m()\u001b[0m\n\u001b[0;32m----> 1\u001b[0;31m \u001b[0mage\u001b[0m \u001b[0;34m=\u001b[0m \u001b[0mint\u001b[0m\u001b[0;34m(\u001b[0m\u001b[0minput\u001b[0m\u001b[0;34m(\u001b[0m\u001b[0;34m\"Enter Your age\"\u001b[0m\u001b[0;34m)\u001b[0m\u001b[0;34m)\u001b[0m\u001b[0;34m\u001b[0m\u001b[0;34m\u001b[0m\u001b[0m\n\u001b[0m",
            "\u001b[0;31mValueError\u001b[0m: invalid literal for int() with base 10: 'bhargav'"
          ]
        }
      ]
    },
    {
      "cell_type": "markdown",
      "metadata": {
        "id": "Mp1EUzKmSBUS"
      },
      "source": [
        "Error:\n",
        "\n",
        "The problem we got here is the data type of the input.\n",
        "\n",
        "> Troubleshoot :\n",
        "\n",
        "1. We set the variable to integer and gave a character\n",
        "\n",
        "2. To avoid this error temporarily\n",
        "\n",
        "3. You should give the end user What type of error is they got in simple language\n",
        "\n",
        "> Solution:\n",
        "Exception Method\n",
        "1. Use Try and Except Method \n",
        "\n",
        "\n"
      ]
    },
    {
      "cell_type": "code",
      "metadata": {
        "colab": {
          "base_uri": "https://localhost:8080/"
        },
        "id": "qmV5UkluTWVJ",
        "outputId": "3fd8071e-460d-4501-93e1-e0d87502c865"
      },
      "source": [
        "try:\n",
        "  age = int(input(\"Enter Your age:\"))\n",
        "except ValueError:\n",
        "  print(\"Please enter the valid age\") # here integer value is taken\n"
      ],
      "execution_count": 22,
      "outputs": [
        {
          "output_type": "stream",
          "text": [
            "Enter Your age:13\n"
          ],
          "name": "stdout"
        }
      ]
    },
    {
      "cell_type": "code",
      "metadata": {
        "colab": {
          "base_uri": "https://localhost:8080/"
        },
        "id": "0USt8ewHURUw",
        "outputId": "ccd73700-571f-4367-f0b7-3c82985e778d"
      },
      "source": [
        "try:\n",
        "  age = int(input(\"Enter Your age:\"))\n",
        "except ValueError:\n",
        "  print(\"Please enter the valid age\") # here some other than integer value is taken but exception is executed\n",
        "finally:\n",
        "  print(\"xyz\")\n"
      ],
      "execution_count": 23,
      "outputs": [
        {
          "output_type": "stream",
          "text": [
            "Enter Your age:bhar\n",
            "Please enter the valid age\n"
          ],
          "name": "stdout"
        }
      ]
    },
    {
      "cell_type": "markdown",
      "metadata": {
        "id": "b_LQH0j8Vive"
      },
      "source": [
        "Functions:\n",
        "1. User-defined\n",
        "2. Pre-defined"
      ]
    },
    {
      "cell_type": "code",
      "metadata": {
        "id": "QaC5f2HqWoW2"
      },
      "source": [
        "def log_user():\n",
        "  print(\"Hi there .... \")\n",
        "  print(\"Welcome Abroad\")\n"
      ],
      "execution_count": 30,
      "outputs": []
    },
    {
      "cell_type": "code",
      "metadata": {
        "colab": {
          "base_uri": "https://localhost:8080/"
        },
        "id": "fRdr8nGrW0U8",
        "outputId": "8f70aa32-c3d4-4a7e-ef03-9b00c009d409"
      },
      "source": [
        "print(\"Start\")\n",
        "log_user()\n",
        "print(\"Stop\")"
      ],
      "execution_count": 29,
      "outputs": [
        {
          "output_type": "stream",
          "text": [
            "Start\n",
            "Hi there .... \n",
            "Welcome Aborad\n",
            "Stop\n"
          ],
          "name": "stdout"
        }
      ]
    },
    {
      "cell_type": "code",
      "metadata": {
        "id": "i0FyqgpfZCoY"
      },
      "source": [
        "def log_user(first, last): #Parameter\n",
        "  print(f\"Hi there {last} {first} \")\n",
        "  print(\"Welcome Abroad\")\n"
      ],
      "execution_count": 43,
      "outputs": []
    },
    {
      "cell_type": "code",
      "metadata": {
        "colab": {
          "base_uri": "https://localhost:8080/"
        },
        "id": "RbgED1fRZNB2",
        "outputId": "703beb1e-3673-44b3-fe67-6b9245a2ccdf"
      },
      "source": [
        "log_user(first=\"bhargav\",last=\"gangapuram\") #Argument"
      ],
      "execution_count": 44,
      "outputs": [
        {
          "output_type": "stream",
          "text": [
            "Hi there gangapuram bhargav \n",
            "Welcome Abroad\n"
          ],
          "name": "stdout"
        }
      ]
    },
    {
      "cell_type": "markdown",
      "metadata": {
        "id": "gU97-9vracXq"
      },
      "source": [
        "Pre-Defined :\n"
      ]
    },
    {
      "cell_type": "code",
      "metadata": {
        "colab": {
          "base_uri": "https://localhost:8080/"
        },
        "id": "fUwB3pIzai-l",
        "outputId": "7ca82cae-f1d2-4481-80b4-6b9a510352de"
      },
      "source": [
        "import math\n",
        "math.factorial(7)"
      ],
      "execution_count": 45,
      "outputs": [
        {
          "output_type": "execute_result",
          "data": {
            "text/plain": [
              "5040"
            ]
          },
          "metadata": {
            "tags": []
          },
          "execution_count": 45
        }
      ]
    },
    {
      "cell_type": "code",
      "metadata": {
        "colab": {
          "base_uri": "https://localhost:8080/"
        },
        "id": "qZEu-JNTavnp",
        "outputId": "72420afb-8d6d-4cd6-cae5-726e0fa8218b"
      },
      "source": [
        "import time\n",
        "for i in range(10):\n",
        "  print(i)\n",
        "  time.sleep(7)"
      ],
      "execution_count": 49,
      "outputs": [
        {
          "output_type": "stream",
          "text": [
            "0\n",
            "1\n",
            "2\n",
            "3\n",
            "4\n",
            "5\n",
            "6\n",
            "7\n",
            "8\n",
            "9\n"
          ],
          "name": "stdout"
        }
      ]
    },
    {
      "cell_type": "markdown",
      "metadata": {
        "id": "1Ja_YUlmes_g"
      },
      "source": [
        "Numpy Function:\n",
        "1. pip install numpy"
      ]
    },
    {
      "cell_type": "code",
      "metadata": {
        "id": "3VGNzLZyeyvd"
      },
      "source": [
        "import numpy as np\n"
      ],
      "execution_count": 51,
      "outputs": []
    },
    {
      "cell_type": "code",
      "metadata": {
        "id": "L_YgEeA8epsu"
      },
      "source": [
        "c = np.array([1,2,3,4])\n",
        "d = np.array([5,6,7,8])"
      ],
      "execution_count": 53,
      "outputs": []
    },
    {
      "cell_type": "code",
      "metadata": {
        "colab": {
          "base_uri": "https://localhost:8080/"
        },
        "id": "4tdUD_cUfWA0",
        "outputId": "fda8ba47-2f7d-49ea-b5e6-3684b9cf4a4d"
      },
      "source": [
        "c * d"
      ],
      "execution_count": 54,
      "outputs": [
        {
          "output_type": "execute_result",
          "data": {
            "text/plain": [
              "array([ 5, 12, 21, 32])"
            ]
          },
          "metadata": {
            "tags": []
          },
          "execution_count": 54
        }
      ]
    }
  ]
}