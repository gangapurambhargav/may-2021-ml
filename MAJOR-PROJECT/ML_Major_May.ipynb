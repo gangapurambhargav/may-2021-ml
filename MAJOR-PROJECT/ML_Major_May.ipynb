{
  "nbformat": 4,
  "nbformat_minor": 0,
  "metadata": {
    "colab": {
      "name": "ML-Major-May.ipynb",
      "private_outputs": true,
      "provenance": [],
      "collapsed_sections": []
    },
    "kernelspec": {
      "name": "python3",
      "display_name": "Python 3"
    },
    "language_info": {
      "name": "python"
    }
  },
  "cells": [
    {
      "cell_type": "code",
      "metadata": {
        "id": "4IwEbF0Lv87M"
      },
      "source": [
        "# import all necessary libraries\n",
        "import warnings\n",
        "warnings.filterwarnings('ignore')\n",
        "\n",
        "import pandas as pd\n",
        "import numpy as np\n",
        "\n",
        "import matplotlib.pyplot as plt\n",
        "import seaborn as sns\n",
        "sns.set()\n",
        "\n",
        "from sklearn.preprocessing import scale\n",
        "from sklearn.model_selection import train_test_split\n",
        "\n",
        "from sklearn import metrics\n",
        "from sklearn.metrics import confusion_matrix\n",
        "from sklearn.svm import SVC\n",
        "\n",
        "from sklearn.model_selection import KFold\n",
        "from sklearn.model_selection import cross_val_score\n",
        "from sklearn.model_selection import GridSearchCV"
      ],
      "execution_count": null,
      "outputs": []
    },
    {
      "cell_type": "code",
      "metadata": {
        "id": "tPCg_6bCxAaw"
      },
      "source": [
        "#import file and reading few lines\n",
        "numbers = pd.read_csv('/content/drive/MyDrive/ML-PROJECT-2021-MAY/digit_svm.csv')\n",
        "numbers.head(12)"
      ],
      "execution_count": null,
      "outputs": []
    },
    {
      "cell_type": "code",
      "metadata": {
        "id": "9WC8OCc40qN1"
      },
      "source": [
        "numbers.shape"
      ],
      "execution_count": null,
      "outputs": []
    },
    {
      "cell_type": "code",
      "metadata": {
        "id": "bhIXd2Uc0yTE"
      },
      "source": [
        "# Checking the datatype\n",
        "numbers.info()"
      ],
      "execution_count": null,
      "outputs": []
    },
    {
      "cell_type": "code",
      "metadata": {
        "id": "Ac8Xpzem0-Hi"
      },
      "source": [
        "#count,mean,std,min,max,5,10,25,50,75,99\n",
        "numbers.describe(percentiles = [0.05,0.10,0.25,0.50,0.75,0.90,0.99])"
      ],
      "execution_count": null,
      "outputs": []
    },
    {
      "cell_type": "code",
      "metadata": {
        "id": "b-KxuG3F1RJ7"
      },
      "source": [
        "#checking for null values\n",
        "round(100*(numbers.isnull().sum()/(len(numbers.index))),2).sort_values(ascending = False)"
      ],
      "execution_count": null,
      "outputs": []
    },
    {
      "cell_type": "code",
      "metadata": {
        "id": "zFd-5QXP1Zpi"
      },
      "source": [
        "# let us check unique entries of label column\n",
        "np.unique(numbers['label'])"
      ],
      "execution_count": null,
      "outputs": []
    },
    {
      "cell_type": "code",
      "metadata": {
        "id": "4fu8wgXV1cxu"
      },
      "source": [
        "numbers['label'].value_counts()"
      ],
      "execution_count": null,
      "outputs": []
    },
    {
      "cell_type": "code",
      "metadata": {
        "id": "YuLG2ur11hak"
      },
      "source": [
        "#visualising the column - label\n",
        "sns.countplot(numbers['label'],palette = 'icefire')"
      ],
      "execution_count": null,
      "outputs": []
    },
    {
      "cell_type": "code",
      "metadata": {
        "id": "YDp31Qu22HVF"
      },
      "source": [
        "y = pd.value_counts(numbers.values.ravel()).sort_index()\n",
        "N = len(y)\n",
        "x = range(N)\n",
        "width =0.9\n",
        "plt.figure(figsize=[8,8])\n",
        "plt.bar(x, y, width, color=\"blue\")\n",
        "plt.title('Pixel Value Frequency (Log Scale)')\n",
        "plt.yscale('log')\n",
        "plt.xlabel('Pixel Value (0-255)')\n",
        "plt.ylabel('Frequency')"
      ],
      "execution_count": null,
      "outputs": []
    },
    {
      "cell_type": "code",
      "metadata": {
        "id": "KfvykuQR2L2v"
      },
      "source": [
        "plt.figure(figsize=(5,5))\n",
        "sns.distplot(numbers['pixel656'])\n",
        "plt.show()"
      ],
      "execution_count": null,
      "outputs": []
    },
    {
      "cell_type": "code",
      "metadata": {
        "id": "-BoHG8qF2QHg"
      },
      "source": [
        "plt.figure(figsize=(5,5))\n",
        "sns.distplot(numbers['pixel684'])"
      ],
      "execution_count": null,
      "outputs": []
    },
    {
      "cell_type": "code",
      "metadata": {
        "id": "c29yuT662VkG"
      },
      "source": [
        "sns.barplot(x='label', y='pixel683', data=numbers)"
      ],
      "execution_count": null,
      "outputs": []
    },
    {
      "cell_type": "code",
      "metadata": {
        "id": "s9AbiUS12ZK0"
      },
      "source": [
        "sns.barplot(x='label', y='pixel572', data=numbers)"
      ],
      "execution_count": null,
      "outputs": []
    },
    {
      "cell_type": "code",
      "metadata": {
        "id": "SN3OYeQk2c8G"
      },
      "source": [
        "one = numbers.iloc[2, 1:]\n",
        "one = one.values.reshape(28,28)\n",
        "plt.imshow(one)\n",
        "plt.title(\"Digit 1\")"
      ],
      "execution_count": null,
      "outputs": []
    },
    {
      "cell_type": "code",
      "metadata": {
        "id": "pU-bXBwC28Qm"
      },
      "source": [
        "zero = numbers.iloc[1, 1:]\n",
        "zero = zero.values.reshape(28,28)\n",
        "plt.imshow(zero)\n",
        "plt.title(\"Digit 0\")"
      ],
      "execution_count": null,
      "outputs": []
    },
    {
      "cell_type": "code",
      "metadata": {
        "id": "HerCF86u29p1"
      },
      "source": [
        "nine = numbers.iloc[11, 1:]\n",
        "nine = nine.values.reshape(28,28)\n",
        "plt.imshow(nine)\n",
        "plt.title(\"Digit 9\")"
      ],
      "execution_count": null,
      "outputs": []
    },
    {
      "cell_type": "code",
      "metadata": {
        "id": "tRdM75wA3Il0"
      },
      "source": [
        "plt.figure(figsize=(15,15))\n",
        "sns.heatmap(data=numbers.corr(),annot=False)"
      ],
      "execution_count": null,
      "outputs": []
    },
    {
      "cell_type": "code",
      "metadata": {
        "id": "SI0SwtvX3-h1"
      },
      "source": [
        "# average feature values\n",
        "pd.set_option('display.max_rows', 999)\n",
        "round(numbers.drop('label', axis=1).mean(), 2).sort_values(ascending = False)"
      ],
      "execution_count": null,
      "outputs": []
    },
    {
      "cell_type": "code",
      "metadata": {
        "id": "cDUDpuQh4FVM"
      },
      "source": [
        "# splitting into X and y\n",
        "X = numbers.drop(\"label\", axis = 1)\n",
        "y = numbers['label']"
      ],
      "execution_count": null,
      "outputs": []
    },
    {
      "cell_type": "code",
      "metadata": {
        "id": "25BZljkz4USV"
      },
      "source": [
        " #scaling the features\n",
        "X_scaled = scale(X)\n",
        "\n",
        "# train test split\n",
        "X_train, X_test, y_train, y_test = train_test_split(X_scaled, y, train_size=0.2,test_size = 0.8, random_state = 101)\n"
      ],
      "execution_count": null,
      "outputs": []
    },
    {
      "cell_type": "code",
      "metadata": {
        "id": "lg-80IK24vi9"
      },
      "source": [
        "print('X_train shape:',X_train.shape)\n",
        "print('y_train shape:',y_train.shape)\n",
        "print('X_test shape:',X_test.shape)\n",
        "print('y_test shape:',y_test.shape)"
      ],
      "execution_count": null,
      "outputs": []
    },
    {
      "cell_type": "code",
      "metadata": {
        "id": "kM_sVzkG4_ZA"
      },
      "source": [
        "# linear model\n",
        "model_linear = SVC(kernel='linear')\n",
        "model_linear.fit(X_train, y_train)\n",
        "\n",
        "# predict\n",
        "y_pred = model_linear.predict(X_test)"
      ],
      "execution_count": null,
      "outputs": []
    },
    {
      "cell_type": "code",
      "metadata": {
        "id": "blN9svHU50tO"
      },
      "source": [
        "# confusion matrix and accuracy, precision, recall\n",
        "\n",
        "# accuracy\n",
        "print(\"accuracy:\", metrics.accuracy_score(y_true=y_test, y_pred=y_pred), \"\\n\")\n",
        "\n",
        "# cm\n",
        "print(metrics.confusion_matrix(y_true=y_test, y_pred=y_pred))"
      ],
      "execution_count": null,
      "outputs": []
    },
    {
      "cell_type": "code",
      "metadata": {
        "id": "c5iFYxXy6aj7"
      },
      "source": [
        "#precision, recall and f1-score\n",
        "scores=metrics.classification_report(y_test, y_pred, labels=[0, 1, 2, 3, 4, 5, 6, 7, 8, 9])\n",
        "print(scores)"
      ],
      "execution_count": null,
      "outputs": []
    },
    {
      "cell_type": "code",
      "metadata": {
        "id": "hKPzxJDf6h4X"
      },
      "source": [
        "# non-linear model\n",
        "# using poly kernel, C=1, default value of gamma\n",
        "\n",
        "# model\n",
        "non_linear_model_poly = SVC(kernel='poly')\n",
        "\n",
        "# fit\n",
        "non_linear_model_poly.fit(X_train, y_train)\n",
        "\n",
        "# predict\n",
        "y_pred = non_linear_model_poly.predict(X_test)"
      ],
      "execution_count": null,
      "outputs": []
    },
    {
      "cell_type": "code",
      "metadata": {
        "id": "-xpG9Ppm61Ug"
      },
      "source": [
        "# confusion matrix and accuracy, precision, recall\n",
        "\n",
        "# accuracy\n",
        "print(\"accuracy:\", metrics.accuracy_score(y_true=y_test, y_pred=y_pred), \"\\n\")\n",
        "\n",
        "# cm\n",
        "print(metrics.confusion_matrix(y_true=y_test, y_pred=y_pred))"
      ],
      "execution_count": null,
      "outputs": []
    },
    {
      "cell_type": "code",
      "metadata": {
        "id": "qI0Q4GWG8EGd"
      },
      "source": [
        "# non-linear model\n",
        "# using rbf kernel, C=1, default value of gamma\n",
        "\n",
        "# model\n",
        "non_linear_model = SVC(kernel='rbf')\n",
        "\n",
        "# fit\n",
        "non_linear_model.fit(X_train, y_train)\n",
        "\n",
        "# predict\n",
        "y_pred = non_linear_model.predict(X_test)"
      ],
      "execution_count": null,
      "outputs": []
    },
    {
      "cell_type": "code",
      "metadata": {
        "id": "tRzwRKDB8Utz"
      },
      "source": [
        " #confusion matrix and accuracy, precision, recall\n",
        "\n",
        "# accuracy\n",
        "print(\"accuracy:\", metrics.accuracy_score(y_true=y_test, y_pred=y_pred), \"\\n\")\n",
        "\n",
        "# cm\n",
        "print(metrics.confusion_matrix(y_true=y_test, y_pred=y_pred))"
      ],
      "execution_count": null,
      "outputs": []
    },
    {
      "cell_type": "code",
      "metadata": {
        "id": "Eaqy6JV69BXv"
      },
      "source": [
        "#precision, recall and f1-score\n",
        "scores=metrics.classification_report(y_test, y_pred, labels=[0, 1, 2, 3, 4, 5, 6, 7, 8, 9])\n",
        "print(scores)"
      ],
      "execution_count": null,
      "outputs": []
    },
    {
      "cell_type": "code",
      "metadata": {
        "id": "Us1e0eq69E_B"
      },
      "source": [
        "# creating a KFold object with 5 splits \n",
        "folds = KFold(n_splits = 5, shuffle = True, random_state = 101)\n",
        "\n",
        "# specify range of hyperparameters\n",
        "# Set the parameters by cross-validation\n",
        "hyper_params = [ {'gamma': [0.01, 0.001,0.0001],\n",
        "                     'C': [1, 10, 100]}]\n",
        "\n",
        "\n",
        "# specify model\n",
        "model = SVC(kernel=\"rbf\")\n",
        "\n",
        "# set up GridSearchCV()\n",
        "model_cv = GridSearchCV(estimator = model, \n",
        "                        param_grid = hyper_params, \n",
        "                        scoring= 'accuracy', \n",
        "                        cv = folds, \n",
        "                        verbose = 1,\n",
        "                        return_train_score=True,n_jobs = -1)      \n",
        "\n",
        "# fit the model\n",
        "model_cv.fit(X_train, y_train)"
      ],
      "execution_count": null,
      "outputs": []
    },
    {
      "cell_type": "code",
      "metadata": {
        "id": "dhnjHHXFBS4k"
      },
      "source": [
        "# cv results\n",
        "cv_results = pd.DataFrame(model_cv.cv_results_)\n",
        "cv_results"
      ],
      "execution_count": null,
      "outputs": []
    },
    {
      "cell_type": "code",
      "metadata": {
        "id": "G6FB3wQjG4cP"
      },
      "source": [
        "# converting C to numeric type for plotting on x-axis\n",
        "cv_results['param_C'] = cv_results['param_C'].astype('int')\n",
        "\n",
        "# # plotting\n",
        "plt.figure(figsize=(20,7))\n",
        "\n",
        "# subplot 1/3\n",
        "plt.subplot(131)\n",
        "gamma_01 = cv_results[cv_results['param_gamma']==0.01]\n",
        "\n",
        "plt.plot(gamma_01[\"param_C\"], gamma_01[\"mean_test_score\"])\n",
        "plt.plot(gamma_01[\"param_C\"], gamma_01[\"mean_train_score\"])\n",
        "plt.xlabel('C')\n",
        "plt.ylabel('Accuracy')\n",
        "plt.title(\"Gamma=0.01\")\n",
        "plt.ylim([0.50, 1.1])\n",
        "plt.legend(['test accuracy', 'train accuracy'], loc='upper left')\n",
        "plt.xscale('log')\n",
        "\n",
        "# subplot 2/3\n",
        "plt.subplot(132)\n",
        "gamma_001 = cv_results[cv_results['param_gamma']==0.001]\n",
        "\n",
        "plt.plot(gamma_001[\"param_C\"], gamma_001[\"mean_test_score\"])\n",
        "plt.plot(gamma_001[\"param_C\"], gamma_001[\"mean_train_score\"])\n",
        "plt.xlabel('C')\n",
        "plt.ylabel('Accuracy')\n",
        "plt.title(\"Gamma=0.001\")\n",
        "plt.ylim([0.50, 1.1])\n",
        "plt.legend(['test accuracy', 'train accuracy'], loc='upper left')\n",
        "plt.xscale('log')\n",
        "\n",
        "\n",
        "# subplot 3/3\n",
        "plt.subplot(133)\n",
        "gamma_0001 = cv_results[cv_results['param_gamma']==0.0001]\n",
        "\n",
        "plt.plot(gamma_0001[\"param_C\"], gamma_0001[\"mean_test_score\"])\n",
        "plt.plot(gamma_0001[\"param_C\"], gamma_0001[\"mean_train_score\"])\n",
        "plt.xlabel('C')\n",
        "plt.ylabel('Accuracy')\n",
        "plt.title(\"Gamma=0.0001\")\n",
        "plt.ylim([0.50, 1.1])\n",
        "plt.legend(['test accuracy', 'train accuracy'], loc='upper left')\n",
        "plt.xscale('log')"
      ],
      "execution_count": null,
      "outputs": []
    },
    {
      "cell_type": "code",
      "metadata": {
        "id": "c5rthcJkG-tl"
      },
      "source": [
        "# printing the optimal accuracy score and hyperparameters\n",
        "best_score = model_cv.best_score_\n",
        "best_hyperparams = model_cv.best_params_\n",
        "\n",
        "print(\"The best test score is {0} corresponding to hyperparameters {1}\".format(best_score, best_hyperparams))"
      ],
      "execution_count": null,
      "outputs": []
    },
    {
      "cell_type": "code",
      "metadata": {
        "id": "jC0bHpkiHDH7"
      },
      "source": [
        "# model with optimal hyperparameters\n",
        "\n",
        "# model\n",
        "model = SVC(C=10, gamma=0.001, kernel=\"rbf\")\n",
        "\n",
        "model.fit(X_train, y_train)\n",
        "y_pred = model.predict(X_test)\n",
        "\n",
        "# metrics\n",
        "print(\"accuracy\", metrics.accuracy_score(y_test, y_pred), \"\\n\")\n",
        "print(metrics.confusion_matrix(y_test, y_pred), \"\\n\")"
      ],
      "execution_count": null,
      "outputs": []
    },
    {
      "cell_type": "code",
      "metadata": {
        "id": "rgcrDEpWHKnw"
      },
      "source": [
        "# different class-wise accuracy - #precision, recall and f1-score\n",
        "scores=metrics.classification_report(y_test, y_pred, labels=[0, 1, 2, 3, 4, 5, 6, 7, 8, 9])\n",
        "print(scores)"
      ],
      "execution_count": null,
      "outputs": []
    },
    {
      "cell_type": "code",
      "metadata": {
        "id": "kknW2ifKH4Lt"
      },
      "source": [
        "# Let us visualize our final model on unseen training dataset\n",
        "\n",
        "df = np.random.randint(1,y_pred.shape[0]+1,5)\n",
        "\n",
        "plt.figure(figsize=(16,4))\n",
        "for i,j in enumerate(df):\n",
        "    plt.subplot(150+i+1)\n",
        "    d = X_test[j].reshape(28,28)\n",
        "    plt.title(f'Predicted Label: {y_pred[j]}')\n",
        "    plt.imshow(d)\n",
        "plt.show()"
      ],
      "execution_count": null,
      "outputs": []
    },
    {
      "cell_type": "code",
      "metadata": {
        "id": "2PB-jmiWH-E3"
      },
      "source": [
        "X_test"
      ],
      "execution_count": null,
      "outputs": []
    },
    {
      "cell_type": "code",
      "metadata": {
        "id": "AKpwyTYbICQU"
      },
      "source": [
        "# scaling the features\n",
        "test_scaled = scale( X_test)"
      ],
      "execution_count": null,
      "outputs": []
    },
    {
      "cell_type": "code",
      "metadata": {
        "id": "NYag0XgJIFP5"
      },
      "source": [
        "test_predict = model.predict(test_scaled)"
      ],
      "execution_count": null,
      "outputs": []
    },
    {
      "cell_type": "code",
      "metadata": {
        "id": "FYGOZJx6IHzK"
      },
      "source": [
        "# Plotting the distribution of prediction\n",
        "a = {'ImageId': np.arange(1,test_predict.shape[0]+1), 'Label': test_predict}\n",
        "data_to_export = pd.DataFrame(a)\n",
        "sns.countplot(data_to_export['Label'], palette = 'icefire')"
      ],
      "execution_count": null,
      "outputs": []
    },
    {
      "cell_type": "code",
      "metadata": {
        "id": "quidafqLIzpY"
      },
      "source": [
        "# Let us visualize few of predicted test numbers\n",
        "\n",
        "df = np.random.randint(1,test_predict.shape[0]+1,5)\n",
        "\n",
        "plt.figure(figsize=(16,4))\n",
        "for i,j in enumerate(df):\n",
        "    plt.subplot(150+i+1)\n",
        "    d = test_scaled[j].reshape(28,28)\n",
        "    plt.title(f'Predicted Label: {test_predict[j]}')\n",
        "    plt.imshow(d)\n",
        "plt.show()"
      ],
      "execution_count": null,
      "outputs": []
    },
    {
      "cell_type": "code",
      "metadata": {
        "id": "3aIXTrkGI_tW"
      },
      "source": [
        "# Exporting the predicted values \n",
        "data_to_export.to_csv(path_or_buf='submission.csv', index=True)"
      ],
      "execution_count": null,
      "outputs": []
    }
  ]
}