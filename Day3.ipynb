{
  "nbformat": 4,
  "nbformat_minor": 0,
  "metadata": {
    "colab": {
      "name": "Day3.ipynb",
      "provenance": [],
      "collapsed_sections": [],
      "authorship_tag": "ABX9TyORGVOe9POwV28+I7/BwRa4",
      "include_colab_link": true
    },
    "kernelspec": {
      "name": "python3",
      "display_name": "Python 3"
    },
    "language_info": {
      "name": "python"
    }
  },
  "cells": [
    {
      "cell_type": "markdown",
      "metadata": {
        "id": "view-in-github",
        "colab_type": "text"
      },
      "source": [
        "<a href=\"https://colab.research.google.com/github/gangapurambhargav/may-2021-ml/blob/main/Day3.ipynb\" target=\"_parent\"><img src=\"https://colab.research.google.com/assets/colab-badge.svg\" alt=\"Open In Colab\"/></a>"
      ]
    },
    {
      "cell_type": "code",
      "metadata": {
        "id": "kDbx9KLXc8mC"
      },
      "source": [
        "name= \"Bhargav\""
      ],
      "execution_count": 2,
      "outputs": []
    },
    {
      "cell_type": "code",
      "metadata": {
        "colab": {
          "base_uri": "https://localhost:8080/",
          "height": 35
        },
        "id": "YKwHR-QNdaa9",
        "outputId": "7b285f95-c217-4309-8852-c9d561efa84d"
      },
      "source": [
        "name"
      ],
      "execution_count": 3,
      "outputs": [
        {
          "output_type": "execute_result",
          "data": {
            "application/vnd.google.colaboratory.intrinsic+json": {
              "type": "string"
            },
            "text/plain": [
              "'Bhargav'"
            ]
          },
          "metadata": {
            "tags": []
          },
          "execution_count": 3
        }
      ]
    },
    {
      "cell_type": "code",
      "metadata": {
        "colab": {
          "base_uri": "https://localhost:8080/"
        },
        "id": "fHCdRZZUdnhR",
        "outputId": "888e0d4c-97c8-4601-d40f-217aeba236db"
      },
      "source": [
        "name= input(\"Enter the Name:\")"
      ],
      "execution_count": 26,
      "outputs": [
        {
          "output_type": "stream",
          "text": [
            "Enter the Name:bhargav\n"
          ],
          "name": "stdout"
        }
      ]
    },
    {
      "cell_type": "code",
      "metadata": {
        "colab": {
          "base_uri": "https://localhost:8080/",
          "height": 35
        },
        "id": "YHMfcu81d0N-",
        "outputId": "ce2cfe52-d3bd-4c22-d5d0-112d3c275cb6"
      },
      "source": [
        "name"
      ],
      "execution_count": 5,
      "outputs": [
        {
          "output_type": "execute_result",
          "data": {
            "application/vnd.google.colaboratory.intrinsic+json": {
              "type": "string"
            },
            "text/plain": [
              "'Gangapuram '"
            ]
          },
          "metadata": {
            "tags": []
          },
          "execution_count": 5
        }
      ]
    },
    {
      "cell_type": "code",
      "metadata": {
        "colab": {
          "base_uri": "https://localhost:8080/"
        },
        "id": "w8zE2T8DeHjx",
        "outputId": "3d3d0f80-4d06-4675-f5e2-196a164b677a"
      },
      "source": [
        "score= input(\"Enter your score\")"
      ],
      "execution_count": 6,
      "outputs": [
        {
          "output_type": "stream",
          "text": [
            "Enter your score65\n"
          ],
          "name": "stdout"
        }
      ]
    },
    {
      "cell_type": "code",
      "metadata": {
        "colab": {
          "base_uri": "https://localhost:8080/",
          "height": 35
        },
        "id": "cMNKysoOeOWy",
        "outputId": "fdbf04bd-6470-43b0-d264-451b760ecaa4"
      },
      "source": [
        "score"
      ],
      "execution_count": 7,
      "outputs": [
        {
          "output_type": "execute_result",
          "data": {
            "application/vnd.google.colaboratory.intrinsic+json": {
              "type": "string"
            },
            "text/plain": [
              "'65'"
            ]
          },
          "metadata": {
            "tags": []
          },
          "execution_count": 7
        }
      ]
    },
    {
      "cell_type": "code",
      "metadata": {
        "colab": {
          "base_uri": "https://localhost:8080/"
        },
        "id": "BllFGrnyeQX_",
        "outputId": "a60738d1-5ce0-4420-b59d-f181f88a22cf"
      },
      "source": [
        "type(score)"
      ],
      "execution_count": 8,
      "outputs": [
        {
          "output_type": "execute_result",
          "data": {
            "text/plain": [
              "str"
            ]
          },
          "metadata": {
            "tags": []
          },
          "execution_count": 8
        }
      ]
    },
    {
      "cell_type": "code",
      "metadata": {
        "colab": {
          "base_uri": "https://localhost:8080/"
        },
        "id": "11UJkD97eggT",
        "outputId": "f0852e22-8649-4726-9b78-cf1bd2f6e285"
      },
      "source": [
        "score= int(input(\"Enter the Score:\"))"
      ],
      "execution_count": 13,
      "outputs": [
        {
          "output_type": "stream",
          "text": [
            "Enter the Score:67\n"
          ],
          "name": "stdout"
        }
      ]
    },
    {
      "cell_type": "code",
      "metadata": {
        "colab": {
          "base_uri": "https://localhost:8080/"
        },
        "id": "k4fh_JV5e90x",
        "outputId": "da74012e-ff50-4752-85cc-3511075b96ea"
      },
      "source": [
        "type(score)"
      ],
      "execution_count": 12,
      "outputs": [
        {
          "output_type": "execute_result",
          "data": {
            "text/plain": [
              "int"
            ]
          },
          "metadata": {
            "tags": []
          },
          "execution_count": 12
        }
      ]
    },
    {
      "cell_type": "code",
      "metadata": {
        "colab": {
          "base_uri": "https://localhost:8080/"
        },
        "id": "PZnRvdmafaXE",
        "outputId": "e9430164-6910-4e9d-b12b-03aebd393021"
      },
      "source": [
        "print(f\" Dear  {name},  ,Your Score is {score}\")"
      ],
      "execution_count": 27,
      "outputs": [
        {
          "output_type": "stream",
          "text": [
            " Dear  bhargav,  ,Your Score is 67\n"
          ],
          "name": "stdout"
        }
      ]
    },
    {
      "cell_type": "markdown",
      "metadata": {
        "id": "j5TT2m4jjBm5"
      },
      "source": [
        "**QUICK TASK**\n",
        "\n",
        "1. Take the user's name\n",
        "2.  Take the user's weight in kgs\n",
        "3. Print the Statement in  pounds."
      ]
    },
    {
      "cell_type": "code",
      "metadata": {
        "colab": {
          "base_uri": "https://localhost:8080/"
        },
        "id": "H4ywBocBjUdu",
        "outputId": "60c0d4b7-3875-4846-9105-512555b9d2cd"
      },
      "source": [
        "name=input(\"Enter Your Name:  \")\n",
        "kgweight=float(input(\"Enter your weight in kgs:  \"))\n",
        "pounds=kgweight*2.2046\n",
        "print(f\"Your name is {name}, Your Weight in Pounds is {pounds}, \n",
        "KG wight is {kgweight}\")"
      ],
      "execution_count": 37,
      "outputs": [
        {
          "output_type": "stream",
          "text": [
            "Enter Your Name:  Bhargav\n",
            "Enter your weight in kgs:  45.8\n",
            "Your name is Bhargav, Your Weight in Pounds is 100.97068, KG wight is 45.8\n"
          ],
          "name": "stdout"
        }
      ]
    },
    {
      "cell_type": "markdown",
      "metadata": {
        "id": "y1WWVGoPm4lY"
      },
      "source": [
        "**CONDITIONS**"
      ]
    },
    {
      "cell_type": "code",
      "metadata": {
        "colab": {
          "base_uri": "https://localhost:8080/"
        },
        "id": "Dh2S58t3m-j7",
        "outputId": "cb13354a-5d81-4ab1-9805-776e75c69beb"
      },
      "source": [
        "tempa= int(input(\"Enter the Tempature of the Room\"))\n",
        "if tempa > 35 :\n",
        "  print(\"Freakin Hot Day\")\n",
        "elif tempa < 17:\n",
        "  print(\"Its freakin cold out there\")\n",
        "   \n",
        "else:\n",
        "    print(\"cool\")\n"
      ],
      "execution_count": 47,
      "outputs": [
        {
          "output_type": "stream",
          "text": [
            "Enter the Tempature of the Room12\n",
            "Its freakin cold out there\n"
          ],
          "name": "stdout"
        }
      ]
    },
    {
      "cell_type": "markdown",
      "metadata": {
        "id": "0A5besJpq7IB"
      },
      "source": [
        " QUICK TASK \n",
        "\n",
        "1.   Take the username of the user\n",
        "2.   username should be between 3-10 characters\n",
        "3. If not, give the error msg to the user.\n",
        "\n"
      ]
    },
    {
      "cell_type": "code",
      "metadata": {
        "colab": {
          "base_uri": "https://localhost:8080/"
        },
        "id": "imez4l7qrWW1",
        "outputId": "b042af80-9b23-4e26-fda9-101e70c40152"
      },
      "source": [
        " name=input(\"Enter your name : $ \")\n",
        "if((len(name) < 3) and (len(name) > 10)):\n",
        "    print(\"Error\")\n",
        "else:\n",
        "    print(f\"Your Name is{name}\")"
      ],
      "execution_count": 61,
      "outputs": [
        {
          "output_type": "stream",
          "text": [
            "Enter your name : $ Bhargav\n",
            "Your Name isBhargav\n"
          ],
          "name": "stdout"
        }
      ]
    }
  ]
}